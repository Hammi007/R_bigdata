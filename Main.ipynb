{
 "cells": [
  {
   "cell_type": "markdown",
   "metadata": {},
   "source": [
    "<h1> Dataset <h1>\n",
    "<h4 style = \"line-height: 200%; font-weight: lighter;\"> The definition of attrition is in Oxford’s English dictionary defined as: <br> <i><b> \"The gradual reduction of a workforce by employees leaving and not being replaced rather than by redundancy.\" </i></b>\n",
    "\n",
    "The chosen business case for this course is based on the dataset “Employee Attrition”, which consists of 35 columns and approximately 1400 rows of data about an organization’s employees. \n",
    "The dataset is found on the website “Kaggle.com” in a notebook. The goal of this business case is to find patterns in the data using analysis that can tell us why workers quit their job. Moreover the dataset consists of labeled data, which makes it very relevant to perform classification training and prediction on the data using R programming language.\n",
    "</h4>"
   ]
  },
  {
   "cell_type": "markdown",
   "metadata": {},
   "source": [
    "<h1> Business problem <h1>\n",
    "<h4 style = \"line-height: 200%; font-weight: lighter;\"> \n",
    "The business question we want to answer in this project is based on the attrition data and interest in the issue of employees leaving their jobs. This knowledge is relevant for the company as a strong decision foundation to either prevent employees from leaving or start a hiring process. Out concrete problem-question is therefore as follows:\n",
    "\n",
    "<b><br><i>To what extent do employees in a company quit their jobs based on parameters such as distance from home, monthly salary and job satisfaction?</i></b>\n",
    "\n",
    "In the following we further describe how we are planning to give an answer to the question above. As our dataset contains many columns we have chosen to select the most relevant ones and tried to build a model that is able to somewhat accurately define attrition based on those chosen parameters. The purpose of this would be vital in a company setting as an organization can prepare for workforce loss by using data similar to our dataset about their employees.\n",
    "</h4>"
   ]
  },
  {
   "cell_type": "markdown",
   "metadata": {},
   "source": [
    "<h1> Loading the data<h1>\n",
    "<h4 style = \"line-height: 200%; font-weight: lighter;\"> \n",
    "The data we are using in this project is the attrition-dataset from Kaggle.com and to do further analysis in R, we are loading the into our notebook. Luckyly the dataset has the the format type .csv which enable us to easyly load the data, using the read.csv function. \n",
    "\n",
    "\n",
    "<h4>"
   ]
  },
  {
   "cell_type": "code",
   "execution_count": null,
   "metadata": {},
   "outputs": [],
   "source": [
    "# git_url <- \"https://github.com/Hammi007/R_bigdata/blob/3e35e40e35a28f7e460bac125f9b63384c1cc4f3/Employee_Attrition.csv\"\n",
    "# data <- read.csv(git_url, header = TRUE, stringsAsFactors = FALSE)\n",
    "df <- read.csv(\"Employee_Attrition.csv\", header = TRUE, stringsAsFactors = FALSE, strip.white = TRUE)\n"
   ]
  },
  {
   "cell_type": "markdown",
   "metadata": {},
   "source": [
    "<h1> Exploring the basics of the dataset <h1>\n",
    "<h4 style = \"line-height: 200%; font-weight: lighter;\"> \n",
    "\n",
    "To get a better understanding of the data, we have chosen to do a light exploration using four different R functions: dim, str, unique, is.na.\n",
    "The reason we conduct this basic exploration is to gain quick insights about the structure of the data.\n",
    "\n",
    "Using the <b>dim()</b>, we see that the dataset contains 1470 rows and 35 coloumns.\n",
    "Through the <b>str()</b> function we see the different datatypes and can conclude that, only two datatypes are used: int and chr.\n",
    "This also applies for columns with binary output e.g. 'Attrition' with \"yes\"/\"no\" values, or columns a few multiple values e.g. BusinessTravel with three diffent values.  \n",
    "\n",
    "Using the <b>is.na()</b> we also see, that there are no missing values \"NA\", we have to take in consideration. \n",
    "\n",
    "<h4>"
   ]
  },
  {
   "cell_type": "code",
   "execution_count": null,
   "metadata": {},
   "outputs": [],
   "source": [
    "dim(df)\n",
    "str(df)\n",
    "unique(df$BusinessTravel)\n",
    "table(is.na(df))"
   ]
  },
  {
   "cell_type": "markdown",
   "metadata": {},
   "source": [
    "<h1> Cleaning the data <h1>\n",
    "<h4 style = \"line-height: 200%; font-weight: lighter;\"> After exploring the overall structure of the data, we want to conduct the following transformation-steps: <br><br>\n",
    "    <i>\n",
    "        Step 1: Remove irrelevant columns<br>\n",
    "        Step 2: Remove quotation (\"\") from the dataset <br>\n",
    "        Step 3: Transforming columns whith binary and a multiple values to factors.<br> \n",
    "    <i>\n",
    "<h4>"
   ]
  },
  {
   "cell_type": "code",
   "execution_count": null,
   "metadata": {},
   "outputs": [],
   "source": [
    "#Step 1: Keeping a selection of relevant columns\n",
    "selection <- c(\n",
    "    \"Age\", \"Attrition\", \"BusinessTravel\", \"DistanceFromHome\",\n",
    "    \"EducationField\", \"EnvironmentSatisfaction\", \"Gender\", \"HourlyRate\",\n",
    "    \"JobInvolvement\", \"JobRole\", \"JobSatisfaction\", \"MaritalStatus\",\n",
    "    \"MonthlyIncome\", \"NumCompaniesWorked\", \"OverTime\", \"RelationshipSatisfaction\", # nolint\n",
    "    \"TotalWorkingYears\", \"TrainingTimesLastYear\", \"YearsAtCompany\",\t\"YearsInCurrentRole\", # nolint\n",
    "    \"YearsSinceLastPromotion\"\n",
    ")\n",
    "df <- df[selection]\n",
    "\n",
    "#Step 2,3: Converting multivalues to factors and remvoving quotation \"\"\n",
    "df$Attrition <- factor(df$Attrition, levels = c(\"Yes\", \"No\"), labels = c(\"Yes\", \"No\")) # nolint\n",
    "df$BusinessTravel <- factor(df$BusinessTravel, levels = c(\"Travel_Rarely\", \"Travel_Frequently\", \"Non-Travel\"), # nolint\n",
    "                            labels = c(\"Travel_Rarely\", \"Travel_Frequently\", \"Non-Travel\"))# nolint\n",
    "df$EducationField <- factor(df$EducationField, levels = c(\"Life Sciences\",\"Other\",\"Medical\",\"Marketing\",\"Technical Degree\",\"Human Resources\"), # nolint\n",
    "                            labels = c(\"Life Sciences\",\"Other\",\"Medical\",\"Marketing\",\"Technical Degree\",\"Human Resources\")) # nolint\n",
    "df$EnvironmentSatisfaction <- factor(df$EnvironmentSatisfaction, levels = c(1,2,3,4), labels = c(1,2,3,4)) # nolint\n",
    "df$Gender <- factor(df$Gender, levels = c(\"Male\", \"Female\"), labels = c(\"Male\", \"Female\")) # nolint\n",
    "df$JobInvolvement <- factor(df$JobInvolvement, levels = c(1,2,3,4), labels = c(1,2,3,4)) # nolint\n",
    "df$JobRole <- factor(df$JobRole, levels = c(\"Sales Executive\",\"Research Scientist\",\"Laboratory Technician\", # nolint\n",
    "                                            \"Manufacturing Director\",\"Healthcare Representative\",\"Manager\",\"Sales Representative\", # nolint\n",
    "                                            \"Research Director\",\"Human Resources\"), # nolint\n",
    "                     labels = c(\"Sales Executive\",\"Research Scientist\",\"Laboratory Technician\",\"Manufacturing Director\",\"Healthcare Representative\",\"Manager\",\"Sales Representative\",\"Research Director\",\"Human Resources\")) # nolint\n",
    "df$JobSatisfaction <- factor(df$JobSatisfaction, levels = c(1,2,3,4), labels = c(1,2,3,4)) # nolint\n",
    "df$MaritalStatus <- factor(df$MaritalStatus, levels = c(\"Single\",\"Married\",\"Divorced\"), labels = c(\"Single\",\"Married\",\"Divorced\")) # nolint\n",
    "df$OverTime <- factor(df$OverTime, levels = c(\"Yes\", \"No\"), labels = c(\"Yes\", \"No\")) # nolint\n",
    "df$RelationshipSatisfaction <- factor(df$RelationshipSatisfaction, levels = c(1,2,3,4), labels = c(1,2,3,4)) # nolint\n",
    "df$TrainingTimesLastYear <- factor(df$TrainingTimesLastYear, levels = c(0,1,2,3,4,5,6), labels = c(0,1,2,3,4,5,6)) # nolint\n",
    "#df$WorkLifeBalance <- factor(df$WorkLifeBalance, levels = c(1,2,3,4), labels = c(1,2,3,4), ordered = TRUE) # nolint\n"
   ]
  },
  {
   "cell_type": "markdown",
   "metadata": {},
   "source": [
    "<h2> Visualizing and explporing the data in depth <h2>\n",
    "<h4 style = \"line-height: 200%; font-weight: lighter;\"> In this section we are using R-tools to furhter explore the data. Since our business case is havely based on attrition in a company, we will start invenstigating the categorical value 'attrition' <br>\n",
    "     \n",
    "<i></b>\n",
    "<h4>"
   ]
  },
  {
   "cell_type": "code",
   "execution_count": null,
   "metadata": {},
   "outputs": [],
   "source": [
    "library(tidyverse); library(ggplot2)\n",
    "options(repr.plot.width = 8, repr.plot.height = 5)\n",
    "ggplot(df, aes(x = Attrition)) + geom_bar(aes(fill = Gender))"
   ]
  },
  {
   "cell_type": "markdown",
   "metadata": {},
   "source": [
    "<h4 style = \"line-height: 200%; font-weight: lighter;\">\n",
    "Examening the value 'Attrition', we see that there is an imbalance as the majority of data can be found in the category 'no'.<br>\n",
    "\n",
    "The plot above gives us an idea of what proportions the datasets entirty consists of based on Attrition. <br>We notice a skewness which we will consider in our future interpertations.\n",
    "\n",
    "Also we will keep in mind the option to under/over sample the dataset for future classification purposes.\n",
    "<h4>\n"
   ]
  },
  {
   "cell_type": "markdown",
   "metadata": {},
   "source": [
    "<h3>In the following we will try to further explore our data by visualizing </h3>\n",
    "<h4 style = \"line-height: 200%; font-weight: lighter;\">How does the following parameters influence the attrition:<h4>\n",
    "\n",
    "<ul style = \"\">\n",
    "  <li style = \"margin-bottom: 10px;\">DistanceFromHome</li>\n",
    "  <li style = \"margin-bottom: 10px;\">JobSatisfaction</li>\n",
    "  <li style = \"margin-bottom: 10px;\">MonthlyIncome</li>\n",
    "</ul>\n"
   ]
  },
  {
   "cell_type": "markdown",
   "metadata": {},
   "source": [
    "<h4> <b>JobSatisfaction</b><h4>\n",
    "<h4 style = \"line-height: 200%; font-weight: lighter;\">In the following we see two visual representations of the Jobsatisfaction of the employees with Attrition: \"No\" and \"Yes\"<h4>"
   ]
  },
  {
   "cell_type": "code",
   "execution_count": null,
   "metadata": {},
   "outputs": [],
   "source": [
    "#Filter rows with attrition yes and no respectively:\n",
    "df_yes <- filter(df, Attrition == \"Yes\")\n",
    "df_no <- filter(df, Attrition == \"No\")\n",
    "\n",
    "ggplot(df_no, aes(x = JobSatisfaction), y = Attrition) + geom_bar(aes(fill = Gender)) + ylab(\"Attrition = 'No'\") # nolint\n",
    "ggplot(df_yes, aes(x = JobSatisfaction), y = Attrition) + geom_bar(aes(fill = Gender)) + ylab(\"Attrition = 'Yes'\") # nolint"
   ]
  },
  {
   "cell_type": "markdown",
   "metadata": {},
   "source": [
    "<h4><b>DistanceFromHome</b><h4>\n",
    "<h4 style = \"line-height: 200%; font-weight: lighter;\">In the following we see two visual representations of the employees DistanceFromHome with Attrition: \"No\" and \"Yes\"<h4>"
   ]
  },
  {
   "cell_type": "code",
   "execution_count": null,
   "metadata": {},
   "outputs": [],
   "source": [
    "ggplot(df_no, aes(x = DistanceFromHome), y = Attrition) + geom_bar(aes(fill = Gender)) + ylab(\" Attrition = 'No' \") # nolint\n",
    "ggplot(df_yes, aes(x = DistanceFromHome), y = Attrition) + geom_bar(aes(fill = Gender)) + ylab(\"Attrition = 'Yes' \") # nolint"
   ]
  },
  {
   "cell_type": "markdown",
   "metadata": {},
   "source": [
    "<h4><b>MonthlyIncome</b><h4> \n",
    "<h4 style = \"line-height: 200%; font-weight: lighter;\">In the following we see two visual representations of the employees MonthlyIncome with Attrition: \"No\" and \"Yes\"<h4>"
   ]
  },
  {
   "cell_type": "code",
   "execution_count": null,
   "metadata": {},
   "outputs": [],
   "source": [
    "ggplot(df_no) + aes(x = MonthlyIncome) + geom_histogram(aes(fill=Gender)) + ylab(\"Attrition = 'No'\") # nolint\n",
    "ggplot(df_yes) + aes(x = MonthlyIncome) + geom_histogram(aes(fill=Gender)) + ylab(\"Attrition = 'Yes'\") # nolint\n",
    "\n",
    "hist(df_yes$MonthlyIncome)\n",
    "hist(df_no$MonthlyIncome)"
   ]
  },
  {
   "cell_type": "code",
   "execution_count": null,
   "metadata": {},
   "outputs": [],
   "source": [
    "#Simple visualization of the distribution of MonthlyIncome\n",
    "plot(density(df_no$MonthlyIncome))\n",
    "plot(density(df_yes$MonthlyIncome))"
   ]
  },
  {
   "cell_type": "markdown",
   "metadata": {},
   "source": []
  },
  {
   "cell_type": "markdown",
   "metadata": {},
   "source": [
    "<h1>Unsupervised learning - Classification<h1>\n",
    "<h4 style = \"line-height: 200%; font-weight: lighter;\">\n",
    "Supervised learning is a technique used in data science to use labeled data in order to learn to predict labels on similar data that is unseen by a given model. Supervised learning generalizes based on known labels about certain data and automates decision making processes based on predictions. Supervised learning consists of a training and testing process, where training is the phase of generating a model and testing is the process of applying the model to new unseen data also known as a test sample. The following will use supervised learning in order to attempt to give an answer to the business problem since the dataset includes labeled data.\n",
    "\n",
    "<h4>"
   ]
  },
  {
   "cell_type": "markdown",
   "metadata": {},
   "source": [
    "<h1>Train and test split<h1>\n",
    "<h4 style = \"line-height: 200%; font-weight: lighter;\">\n",
    "Train and test split\n",
    "Train and test split prepares our data for classification training as we need to train a classifier on a training sample and then test its ability to predict on a training sample that the model has not yet seen. For the train and test split we use the following code in R programming language:\n",
    "\n",
    "<h4>\n",
    "    "
   ]
  },
  {
   "cell_type": "code",
   "execution_count": null,
   "metadata": {},
   "outputs": [],
   "source": [
    "# Installing the package\n",
    "#install.packages(\"caTools\")    # For Logistic regression\n",
    "#install.packages(\"ROCR\")       # For ROC curve to evaluate model   \n",
    "# Loading package\n",
    "library(caTools)\n",
    "\n",
    "#Balancing data: (undersampling)\n",
    "yes <- which(df$Attrition == 'Yes')\n",
    "no <- which(df$Attrition == 'No')\n",
    "no <- sample(no, length(yes))\n",
    "df2 <- df[c(no,yes),] \n",
    "df2\n",
    "\n",
    "#Converting Yes and No to 1 and 0:\n",
    "df2$Attrition <- ifelse(df2$Attrition == 'Yes', 1, 0)\n",
    "\n",
    "#Train/test split and Classification:\n",
    "split <- sample.split(df, SplitRatio = 0.7)\n",
    "   \n",
    "train_reg <- subset(df2, split == \"TRUE\")\n",
    "test_reg <- subset(df2, split == \"FALSE\")"
   ]
  },
  {
   "cell_type": "markdown",
   "metadata": {},
   "source": [
    "<h4 style = \"line-height: 200%; font-weight: lighter;\">\n",
    "This section displays the operations conducted to train a batch of the dataset in order to later predict attrition based on parameters provided about a given employee. The following code initiates classification training of a logistic regression classifier:\n",
    "\n",
    "<h4>"
   ]
  },
  {
   "cell_type": "code",
   "execution_count": null,
   "metadata": {},
   "outputs": [],
   "source": [
    "logistic_model <- glm(Attrition ~., \n",
    "                      data = train_reg, \n",
    "                      family = \"binomial\")\n",
    "   \n",
    "# Summary\n",
    "summary(logistic_model)\n"
   ]
  },
  {
   "cell_type": "markdown",
   "metadata": {},
   "source": [
    "<h4 style = \"line-height: 200%; font-weight: lighter;\">\n",
    "After acquiring a fully trained model, prediction is performed on the test batch data, whereafter these predictions accuracy is calculated. These operations are performed using the following code in R programming:\n",
    "<h4>"
   ]
  },
  {
   "cell_type": "code",
   "execution_count": null,
   "metadata": {},
   "outputs": [],
   "source": [
    "# Predict test data based on model\n",
    "predict_reg <- predict(logistic_model, \n",
    "                       test_reg, type = \"response\")\n",
    "predict_reg\n"
   ]
  },
  {
   "cell_type": "markdown",
   "metadata": {},
   "source": [
    "<h4 style = \"line-height: 200%; font-weight: lighter;\">\n",
    "One method of indicating a classification accuracy is by using the area under curve method. Area under curve [AUC] is a technique used to visually represent the accuracy of a classifier's predictions. The larger the area under the curve the higher is the accuracy of the classifier. In the following we use R-programming language to create an AUC curve:\n",
    "\n",
    "<h4>"
   ]
  },
  {
   "cell_type": "code",
   "execution_count": null,
   "metadata": {},
   "outputs": [],
   "source": [
    "library(ROCR)\n",
    "# ROC-AUC Curve\n",
    "ROCPred <- prediction(predict_reg, test_reg$Attrition) \n",
    "ROCPer <- performance(ROCPred, measure = \"tpr\", \n",
    "                             x.measure = \"fpr\")\n",
    "   \n",
    "auc <- performance(ROCPred, measure = \"auc\")\n",
    "auc <- auc@y.values[[1]]\n",
    "   \n",
    "# Plotting curve\n",
    "plot(ROCPer)\n",
    "\n",
    "\n",
    "legend(.6, .4, auc, title = \"AUC\", cex = 1)\n"
   ]
  },
  {
   "cell_type": "markdown",
   "metadata": {},
   "source": [
    "<h4 style = \"line-height: 200%; font-weight: lighter;\">\n",
    "The figure above takes the raw output from the classification predictions and visualizes the area under the curve.In order to calculate the accuracy of the predictions we use thresholding to define “yes” and “no” predictions as the predictions before thresholding are values between 0 and 1, where values closer to 1 indicate “yes” and values close to 0 indicate “no” for attrition.\n",
    "<h4>"
   ]
  },
  {
   "cell_type": "code",
   "execution_count": null,
   "metadata": {},
   "outputs": [],
   "source": [
    "# Threshholding:\n",
    "predict_reg <- ifelse(predict_reg > 0.5, 1, 0)\n",
    "   \n",
    "# Evaluating model accuracy\n",
    "table(test_reg$Attrition, predict_reg)\n",
    "\n",
    "missing_classerr <- mean(predict_reg != test_reg$Attrition)\n",
    "print(paste('Accuracy =', 1 - missing_classerr))\n"
   ]
  },
  {
   "cell_type": "code",
   "execution_count": null,
   "metadata": {},
   "outputs": [],
   "source": []
  },
  {
   "cell_type": "code",
   "execution_count": null,
   "metadata": {},
   "outputs": [],
   "source": []
  },
  {
   "cell_type": "markdown",
   "metadata": {},
   "source": [
    "<h3>Unsupervised learnin - clustering<h3>\n",
    "<h5>In the following a clustering procedure is performed to designate an n amount of clusters for the data.<h5>"
   ]
  },
  {
   "cell_type": "code",
   "execution_count": null,
   "metadata": {},
   "outputs": [],
   "source": [
    "df$scaledAge <- as.numeric(scale(df$Age))\n",
    "df$scaledIncome <- as.numeric(scale(df$MonthlyIncome))\n",
    "\n",
    "data <- select(df, scaledAge, scaledIncome)\n",
    "summary(data)\n",
    "scaledData <- data\n",
    "head(scaledData,3)\n"
   ]
  },
  {
   "cell_type": "markdown",
   "metadata": {},
   "source": [
    "<h4>ELBOW GRAPH: Checking the appropriate number of clusters<h4>"
   ]
  },
  {
   "cell_type": "markdown",
   "metadata": {},
   "source": [
    "<h3>ROC CURVE<h3>\n",
    "<h5>ROC curve visualization for a visual representation of the classifiers accuracy.<h5>"
   ]
  },
  {
   "cell_type": "code",
   "execution_count": null,
   "metadata": {},
   "outputs": [],
   "source": [
    "mydata <- scaledData\n",
    "k_max <- 15\n",
    "wss <- (nrow(mydata)-1)*sum(apply(mydata, 2, var))\n",
    "for (i in 2:k_max) wss[i] <- sum(kmeans(mydata, centers=i)$withinss)\n",
    "plot(1:k_max, wss, type=\"b\", xlab=\"Number of Clusters\",\n",
    "     ylab=\"Sum of square errors (SSE)\")"
   ]
  },
  {
   "cell_type": "markdown",
   "metadata": {},
   "source": [
    "<h4>In the following we can se the impact of not scaling the data:<h4>"
   ]
  },
  {
   "cell_type": "code",
   "execution_count": null,
   "metadata": {},
   "outputs": [],
   "source": [
    "data_unscaled <- select(df, Age, MonthlyIncome)\n",
    "Kmeans <- kmeans(data_unscaled, 7)\n",
    "\n",
    "plot(data_unscaled$Age, data_unscaled$MonthlyIncome, col = Kmeans$cluster, #asp = 1, #xlim=c(1:90), ylim=c(200:178677),\n",
    "     pch = Kmeans$cluster, main = \"K-means without scaling data\", \n",
    "     xlab = \"age\", ylab = \"income\")\n",
    "points(Kmeans$centers[ ,1], Kmeans$centers[ ,2], pch = 23,\n",
    "       col = 'maroon', bg = 'lightblue', cex = 3)\n",
    "text(Kmeans$centers[ ,1], Kmeans$centers[ ,2], cex = 1.1,\n",
    "     col = 'black', attributes(Kmeans$centers)$dimnames[[1]])\n"
   ]
  },
  {
   "cell_type": "markdown",
   "metadata": {},
   "source": [
    "<h4>In the following we can see the impact of scaling the data:<h4>"
   ]
  },
  {
   "cell_type": "code",
   "execution_count": null,
   "metadata": {},
   "outputs": [],
   "source": [
    "KmeansScaling <- kmeans(scaledData, 7)\n",
    "\n",
    "plot(scaledData$scaledAge, scaledData$scaledIncome, col = KmeansScaling$cluster, #asp = 1, #xlim=c(1:90), ylim=c(200:178677),\n",
    "     pch = KmeansScaling$cluster, main = \"K-means with scaling data\", \n",
    "     xlab = \"age\", ylab = \"income\")\n",
    "points(KmeansScaling$centers[ ,1], KmeansScaling$centers[ ,2], pch = 23,\n",
    "       col = 'maroon', bg = 'lightblue', cex = 3)\n",
    "text(KmeansScaling$centers[ ,1], KmeansScaling$centers[ ,2], cex = 1.1,\n",
    "     col = 'black', attributes(KmeansScaling$centers)$dimnames[[1]])"
   ]
  },
  {
   "cell_type": "markdown",
   "metadata": {},
   "source": []
  },
  {
   "cell_type": "code",
   "execution_count": null,
   "metadata": {},
   "outputs": [],
   "source": []
  },
  {
   "cell_type": "markdown",
   "metadata": {},
   "source": [
    "<h3>ROC CURVE<h3>\n",
    "<h5>ROC curve visualization for a visual representation of the classifiers accuracy.<h5>"
   ]
  },
  {
   "cell_type": "code",
   "execution_count": null,
   "metadata": {},
   "outputs": [],
   "source": []
  },
  {
   "cell_type": "code",
   "execution_count": null,
   "metadata": {},
   "outputs": [],
   "source": []
  },
  {
   "cell_type": "code",
   "execution_count": null,
   "metadata": {},
   "outputs": [],
   "source": []
  }
 ],
 "metadata": {
  "interpreter": {
   "hash": "767d51c1340bd893661ea55ea3124f6de3c7a262a8b4abca0554b478b1e2ff90"
  },
  "kernelspec": {
   "display_name": "R",
   "language": "R",
   "name": "ir"
  },
  "language_info": {
   "codemirror_mode": "r",
   "file_extension": ".r",
   "mimetype": "text/x-r-source",
   "name": "R",
   "pygments_lexer": "r",
   "version": "2.7.16"
  }
 },
 "nbformat": 4,
 "nbformat_minor": 2
}
