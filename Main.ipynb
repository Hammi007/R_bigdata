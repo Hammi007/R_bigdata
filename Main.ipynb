{
 "cells": [
  {
   "cell_type": "markdown",
   "metadata": {},
   "source": [
    "<h1> Dataset <h1>\n",
    "<h4 style = \"line-height: 200%; font-weight: lighter;\"> The definition of attrition is in Oxford’s English dictionary defined as: <br> <i><b> \"the gradual reduction of a workforce by employees leaving and not being replaced rather than by redundancy.\" </i></b>\n",
    "\n",
    "The chosen business case for this course is based on the dataset “Employee Attrition”, which consists of 35 columns and approximately 1400 rows of data about an organization’s employees. \n",
    "The dataset is found on the website “Kaggle.com” in a notebook. The goal of this business case is to find patterns in the data using analysis that can tell us why workers quit their job. Moreover the dataset consists of labeled data, which makes it very relevant to perform classification training and prediction on the data using R programming language.\n",
    "</h4>"
   ]
  },
  {
   "cell_type": "markdown",
   "metadata": {},
   "source": [
    "<h1> Business Problem <h1>\n",
    "<h4 style = \"line-height: 200%; font-weight: lighter;\"> \n",
    "The business problem we want to answer in this project is based on the attrition data and interest in the issue of employees leaving their jobs. This knowledge is relevant for the company as a strong decision foundation to either prevent employees from leaving or start a hiring process. Out concrete problem-question is therefore as follows:\n",
    "\n",
    "<b><br><i>To what extent do employees in a company quit their jobs based on parameters such as distance from home, monthly salary and job satisfaction?</i></b>\n",
    "\n",
    "In the following we further describe how we are planning to give an answer to the question above. As our dataset contains many columns we have chosen to select the most relevant ones and tried to build a model that is able to somewhat accurately define attrition based on those chosen parameters. The purpose of this would be vital in a company setting as an organization can prepare for workforce loss by using data similar to our dataset about their employees.\n",
    "</h4>"
   ]
  },
  {
   "cell_type": "markdown",
   "metadata": {},
   "source": [
    "<h1> Loading data <h1>\n",
    "<h4 style = \"line-height: 200%; font-weight: lighter;\"> \n",
    "</h4>"
   ]
  },
  {
   "cell_type": "code",
   "execution_count": null,
   "metadata": {},
   "outputs": [],
   "source": [
    "# git_url <- \"https://github.com/Hammi007/R_bigdata/blob/3e35e40e35a28f7e460bac125f9b63384c1cc4f3/Employee_Attrition.csv\"\n",
    "# data <- read.csv(git_url, header = TRUE, stringsAsFactors = FALSE)\n",
    "df <- read.csv(\"Employee_Attrition.csv\", header = TRUE, stringsAsFactors = FALSE, strip.white = TRUE)\n"
   ]
  },
  {
   "cell_type": "markdown",
   "metadata": {},
   "source": [
    "<h2> Exploring the basics of the dataset <h2>\n"
   ]
  },
  {
   "cell_type": "code",
   "execution_count": null,
   "metadata": {},
   "outputs": [],
   "source": [
    "#We see that the dataset contains 1470 rows and 35 coloumns.\n",
    "dim(df)\n",
    "\n",
    "# Through the str() function we see the different datatypes and can conclude that, only two datatypes are used: int and chr.\n",
    "str(df)\n",
    "\n",
    "# This also applies for columns with binary output eg. 'Attrition' with \"yes\"/\"no\" values, or columns a few multiple values eg BusinessTravel with three diffent values.\n",
    "unique(df$BusinessTravel)\n",
    "\n",
    "# In the dataset we also see, that there is no missing values NA.\n",
    "table(is.na(df))"
   ]
  },
  {
   "cell_type": "markdown",
   "metadata": {},
   "source": [
    "<h2> Cleaning the data <h2>\n",
    "<h4 style = \"line-height: 200%; font-weight: lighter;\"> After exploring the overall structure of the data, we want to conduct the following transformation-steps: <br><br>\n",
    "    <i>\n",
    "        Step 1: Remove irrelevant columns<br>\n",
    "        Step 2: Remove quotation (\"\") from the dataset <br>\n",
    "        Step 3: Transforming columns whith binary and a multiple values to factors.<br> \n",
    "    <i>\n",
    "<h4>"
   ]
  },
  {
   "cell_type": "code",
   "execution_count": null,
   "metadata": {},
   "outputs": [],
   "source": [
    "#Step 1: Keeping a selection of relevant columns\n",
    "selection <- c(\n",
    "    \"Age\", \"Attrition\", \"BusinessTravel\", \"DistanceFromHome\", \n",
    "    \"EducationField\", \"EnvironmentSatisfaction\",\"Gender\",\"HourlyRate\",\n",
    "    \"JobInvolvement\", \"JobRole\", \"JobSatisfaction\", \"MaritalStatus\",\n",
    "    \"MonthlyIncome\", \"NumCompaniesWorked\", \"OverTime\", \"RelationshipSatisfaction\",\n",
    "    \"TotalWorkingYears\", \"TrainingTimesLastYear\", \"YearsAtCompany\",\t\"YearsInCurrentRole\",\n",
    "    \"YearsSinceLastPromotion\"\n",
    ")\n",
    "df <- df[selection]\n",
    "\n",
    "#Step 2,3: Converting multivalues to factors and remvoving quotation \"\"\n",
    "df$Attrition <- factor(df$Attrition, levels = c(\"Yes\", \"No\"), labels = c(\"Yes\", \"No\"))\n",
    "df$BusinessTravel <- factor(df$BusinessTravel, levels = c(\"Travel_Rarely\", \"Travel_Frequently\", \"Non-Travel\"), labels = c(\"Travel_Rarely\", \"Travel_Frequently\", \"Non-Travel\"))\n",
    "df$EducationField <- factor(df$EducationField, levels = c(\"Life Sciences\",\"Other\",\"Medical\",\"Marketing\",\"Technical Degree\",\"Human Resources\"), labels = c(\"Life Sciences\",\"Other\",\"Medical\",\"Marketing\",\"Technical Degree\",\"Human Resources\"), ordered = TRUE)\n",
    "df$EnvironmentSatisfaction <- factor(df$EnvironmentSatisfaction, levels = c(1,2,3,4), labels = c(1,2,3,4))\n",
    "df$Gender <- factor(df$Gender, levels = c(\"Male\", \"Female\"), labels = c(\"Male\", \"Female\"))\n",
    "df$JobInvolvement <- factor(df$JobInvolvement, levels = c(1,2,3,4), labels = c(1,2,3,4))\n",
    "df$JobRole <- factor(df$JobRole, levels = c(\"Sales Executive\",\"Research Scientist\",\"Laboratory Technician\",\"Manufacturing Director\",\"Healthcare Representative\",\"Manager\",\"Sales Representative\",\"Research Director\",\"Human Resources\"), labels = c(\"Sales Executive\",\"Research Scientist\",\"Laboratory Technician\",\"Manufacturing Director\",\"Healthcare Representative\",\"Manager\",\"Sales Representative\",\"Research Director\",\"Human Resources\"), ordered = TRUE)\n",
    "df$JobSatisfaction <- factor(df$JobSatisfaction, levels = c(1,2,3,4), labels = c(1,2,3,4))\n",
    "df$MaritalStatus <- factor(df$MaritalStatus, levels = c(\"Single\",\"Married\",\"Divorced\"), labels = c(\"Single\",\"Married\",\"Divorced\"))\n",
    "df$OverTime <- factor(df$OverTime, levels = c(\"Yes\", \"No\"), labels = c(\"Yes\", \"No\"))\n",
    "df$RelationshipSatisfaction <- factor(df$RelationshipSatisfaction, levels = c(1,2,3,4), labels = c(1,2,3,4))\n",
    "df$TrainingTimesLastYear <- factor(df$TrainingTimesLastYear, levels = c(0,1,2,3,4,5,6), labels = c(0,1,2,3,4,5,6))\n",
    "#df$WorkLifeBalance <- factor(df$WorkLifeBalance, levels = c(1,2,3,4), labels = c(1,2,3,4), ordered = TRUE)\n"
   ]
  },
  {
   "cell_type": "markdown",
   "metadata": {},
   "source": [
    "<h2> Visualizing and understanding the data in depth <h2>\n",
    "<h4 style = \"line-height: 200%; font-weight: lighter;\" > In this section we are using R-tools to furhter explore the data. Since our business case is havely based on attrition in a company, we will start with invenstigation the categorical value 'attrition' <br>\n",
    "     \n",
    "Attration is defines as: <i> \"the gradual reduction of a workforce by employees leaving and not being replaced rather than by redundancy.\" <i> \n",
    "\n",
    "<i>\n",
    "<h4>"
   ]
  },
  {
   "cell_type": "code",
   "execution_count": null,
   "metadata": {},
   "outputs": [],
   "source": [
    "library(tidyverse); library(ggplot2)\n",
    "\n",
    "options(repr.plot.width=8, repr.plot.height=5)\n",
    "\n",
    "ggplot(df, aes(x = Attrition)) + geom_bar(aes(fill = Gender))\n",
    "\n",
    "# Examening the value 'Attrition', we see that there is an imbalance as the majority of data can be found in the category 'no'.\n",
    "# The dataset is skewed."
   ]
  },
  {
   "cell_type": "markdown",
   "metadata": {},
   "source": [
    "<h5>The plot above gives us an idea of what proportions the datasets entirty consists of based on Attrition. <br>We notice a skewness which we will consider in our future interpertations.<h5>\n",
    "<h5 style=\"color:blue;\">Also we will keep in mind the option to under/over sample the dataset for future classification purposes.<h5>"
   ]
  },
  {
   "cell_type": "markdown",
   "metadata": {},
   "source": [
    "<h3>In the following we will try to further explore our data by visualizing: <br>\n",
    "<h5>How does the following parameters influence the attrition:<h5>\n",
    "\n",
    "<ul style = \"\">\n",
    "  <li style = \"margin-bottom: 10px;\">DistanceFromHome</li>\n",
    "  <li style = \"margin-bottom: 10px;\">JobSatisfaction</li>\n",
    "  <li style = \"margin-bottom: 10px;\">MonthlyIncome</li>\n",
    "</ul>\n"
   ]
  },
  {
   "cell_type": "code",
   "execution_count": null,
   "metadata": {},
   "outputs": [],
   "source": [
    "#Filter rows with attrition yes and no respectively:\n",
    "df_yes <- filter(df, Attrition =='Yes')\n",
    "df_no <- filter(df, Attrition =='No')"
   ]
  },
  {
   "cell_type": "markdown",
   "metadata": {},
   "source": [
    "<h2>JobSatisfaction<h2>\n",
    "<h4>In the following we see two visual representations of the Jobsatisfaction of the employees with Attrition: \"No\" and \"Yes\"<h4>"
   ]
  },
  {
   "cell_type": "code",
   "execution_count": null,
   "metadata": {},
   "outputs": [],
   "source": [
    "ggplot(df_no, aes(x = JobSatisfaction), y = Attrition) + geom_bar(aes(fill = Gender)) + ylab(\"Attrition = 'No'\")\n",
    "ggplot(df_yes, aes(x = JobSatisfaction), y = Attrition) + geom_bar(aes(fill = Gender)) + ylab(\"Attrition = 'Yes'\")"
   ]
  },
  {
   "cell_type": "markdown",
   "metadata": {},
   "source": [
    "<h2>DistanceFromHome<h2>\n",
    "<h4>In the following we see two visual representations of the employees DistanceFromHome with Attrition: \"No\" and \"Yes\"<h4>"
   ]
  },
  {
   "cell_type": "code",
   "execution_count": null,
   "metadata": {},
   "outputs": [],
   "source": [
    "ggplot(df_no, aes(x = DistanceFromHome), y = Attrition) + geom_bar(aes(fill = Gender)) + ylab(\"Attrition = 'No'\")\n",
    "ggplot(df_yes, aes(x = DistanceFromHome), y = Attrition) + geom_bar(aes(fill = Gender)) + ylab(\"Attrition = 'Yes'\")\n"
   ]
  },
  {
   "cell_type": "markdown",
   "metadata": {},
   "source": [
    "<h2>MonthlyIncome<h2> \n",
    "<h4>In the following we see two visual representations of the employees MonthlyIncome with Attrition: \"No\" and \"Yes\"<h4>"
   ]
  },
  {
   "cell_type": "code",
   "execution_count": null,
   "metadata": {},
   "outputs": [],
   "source": [
    "ggplot(df_no) + aes(x = MonthlyIncome) + geom_histogram(aes(fill=Gender)) + ylab(\"Attrition = 'No'\")\n",
    "ggplot(df_yes) + aes(x = MonthlyIncome) + geom_histogram(aes(fill=Gender)) + ylab(\"Attrition = 'Yes'\")\n",
    "hist(df_yes$MonthlyIncome)\n",
    "hist(df_no$MonthlyIncome)"
   ]
  },
  {
   "cell_type": "code",
   "execution_count": null,
   "metadata": {},
   "outputs": [],
   "source": [
    "#Simple visualization of the distribution of MonthlyIncome\n",
    "plot(density(df_no$MonthlyIncome))\n",
    "plot(density(df_yes$MonthlyIncome))"
   ]
  },
  {
   "cell_type": "markdown",
   "metadata": {},
   "source": [
    "<h3>Unsupervised learnin - clustering<h3>\n",
    "<h5>In the following a clustering procedure is performed to designate an n amount of clusters for the data.<h5>"
   ]
  },
  {
   "cell_type": "code",
   "execution_count": null,
   "metadata": {},
   "outputs": [],
   "source": [
    "df$scaledAge <- as.numeric(scale(df$Age))\n",
    "df$scaledIncome <- as.numeric(scale(df$MonthlyIncome))\n",
    "\n",
    "data <- select(df, scaledAge, scaledIncome)\n",
    "summary(data)\n",
    "scaledData <- data\n",
    "head(scaledData,3)"
   ]
  },
  {
   "cell_type": "markdown",
   "metadata": {},
   "source": [
    "<h4>ELBOW GRAPH: Checking the appropriate number of clusters<h4>"
   ]
  },
  {
   "cell_type": "code",
   "execution_count": null,
   "metadata": {},
   "outputs": [],
   "source": [
    "mydata <- scaledData\n",
    "k_max <- 15\n",
    "wss <- (nrow(mydata)-1)*sum(apply(mydata, 2, var))\n",
    "for (i in 2:k_max) wss[i] <- sum(kmeans(mydata, centers=i)$withinss)\n",
    "plot(1:k_max, wss, type=\"b\", xlab=\"Number of Clusters\",\n",
    "     ylab=\"Sum of square errors (SSE)\")"
   ]
  },
  {
   "cell_type": "markdown",
   "metadata": {},
   "source": [
    "<h4>In the following we can se the impact of not scaling the data:<h4>"
   ]
  },
  {
   "cell_type": "code",
   "execution_count": null,
   "metadata": {},
   "outputs": [],
   "source": [
    "data_unscaled <- select(df, Age, MonthlyIncome)\n",
    "Kmeans <- kmeans(data_unscaled, 7)\n",
    "\n",
    "plot(data_unscaled$Age, data_unscaled$MonthlyIncome, col = Kmeans$cluster, #asp = 1, #xlim=c(1:90), ylim=c(200:178677),\n",
    "     pch = Kmeans$cluster, main = \"K-means without scaling data\", \n",
    "     xlab = \"age\", ylab = \"income\")\n",
    "points(Kmeans$centers[ ,1], Kmeans$centers[ ,2], pch = 23,\n",
    "       col = 'maroon', bg = 'lightblue', cex = 3)\n",
    "text(Kmeans$centers[ ,1], Kmeans$centers[ ,2], cex = 1.1,\n",
    "     col = 'black', attributes(Kmeans$centers)$dimnames[[1]])\n"
   ]
  },
  {
   "cell_type": "markdown",
   "metadata": {},
   "source": [
    "<h4>In the following we can see the impact of scaling the data:<h4>"
   ]
  },
  {
   "cell_type": "code",
   "execution_count": null,
   "metadata": {},
   "outputs": [],
   "source": [
    "KmeansScaling <- kmeans(scaledData, 7)\n",
    "\n",
    "plot(scaledData$scaledAge, scaledData$scaledIncome, col = KmeansScaling$cluster, #asp = 1, #xlim=c(1:90), ylim=c(200:178677),\n",
    "     pch = KmeansScaling$cluster, main = \"K-means with scaling data\", \n",
    "     xlab = \"age\", ylab = \"income\")\n",
    "points(KmeansScaling$centers[ ,1], KmeansScaling$centers[ ,2], pch = 23,\n",
    "       col = 'maroon', bg = 'lightblue', cex = 3)\n",
    "text(KmeansScaling$centers[ ,1], KmeansScaling$centers[ ,2], cex = 1.1,\n",
    "     col = 'black', attributes(KmeansScaling$centers)$dimnames[[1]])"
   ]
  },
  {
   "cell_type": "markdown",
   "metadata": {},
   "source": [
    "<h3>Classification<h3>\n",
    "<h5>In the following a logistic regression classifier is trained and tested.<h5>"
   ]
  },
  {
   "cell_type": "code",
   "execution_count": null,
   "metadata": {},
   "outputs": [],
   "source": [
    "# Installing the package\n",
    "#install.packages(\"caTools\")    # For Logistic regression\n",
    "#install.packages(\"ROCR\")       # For ROC curve to evaluate model   \n",
    "# Loading package\n",
    "library(caTools)\n",
    "\n",
    "#Balancing data: (undersampling)\n",
    "yes <- which(df$Attrition == 'Yes')\n",
    "no <- which(df$Attrition == 'No')\n",
    "no <- sample(no, length(yes))\n",
    "df <- df[c(no,yes),] \n",
    "df\n",
    "\n",
    "#Converting Yes and No to 1 and 0:\n",
    "df$Attrition <- ifelse(df$Attrition == 'Yes', 1, 0)\n",
    "\n",
    "#Train/test split and Classification:\n",
    "split <- sample.split(df, SplitRatio = 0.7)\n",
    "   \n",
    "train_reg <- subset(df, split == \"TRUE\")\n",
    "test_reg <- subset(df, split == \"FALSE\")\n",
    "\n",
    "\n",
    "logistic_model <- glm(Attrition ~., \n",
    "                      data = train_reg, \n",
    "                      family = \"binomial\")\n",
    "   \n",
    "# Summary\n",
    "summary(logistic_model)\n",
    "   \n",
    "# Predict test data based on model\n",
    "predict_reg <- predict(logistic_model, \n",
    "                       test_reg, type = \"response\")\n",
    "predict_reg  "
   ]
  },
  {
   "cell_type": "markdown",
   "metadata": {},
   "source": [
    "<h3>ROC CURVE<h3>\n",
    "<h5>ROC curve visualization for a visual representation of the classifiers accuracy.<h5>"
   ]
  },
  {
   "cell_type": "code",
   "execution_count": null,
   "metadata": {},
   "outputs": [],
   "source": [
    "library(ROCR)\n",
    "# ROC-AUC Curve\n",
    "ROCPred <- prediction(predict_reg, test_reg$Attrition) \n",
    "ROCPer <- performance(ROCPred, measure = \"tpr\", \n",
    "                             x.measure = \"fpr\")\n",
    "   \n",
    "auc <- performance(ROCPred, measure = \"auc\")\n",
    "auc <- auc@y.values[[1]]\n",
    "   \n",
    "# Plotting curve\n",
    "plot(ROCPer)\n",
    "\n",
    "\n",
    "legend(.6, .4, auc, title = \"AUC\", cex = 1)"
   ]
  },
  {
   "cell_type": "code",
   "execution_count": null,
   "metadata": {},
   "outputs": [],
   "source": [
    "# Threshholding:\n",
    "predict_reg <- ifelse(predict_reg > 0.5, 1, 0)\n",
    "   \n",
    "# Evaluating model accuracy\n",
    "table(test_reg$Attrition, predict_reg)\n",
    "\n",
    "missing_classerr <- mean(predict_reg != test_reg$Attrition)\n",
    "print(paste('Accuracy =', 1 - missing_classerr))"
   ]
  },
  {
   "cell_type": "code",
   "execution_count": null,
   "metadata": {},
   "outputs": [],
   "source": []
  }
 ],
 "metadata": {
  "kernelspec": {
   "display_name": "R",
   "language": "R",
   "name": "ir"
  },
  "language_info": {
   "codemirror_mode": "r",
   "file_extension": ".r",
   "mimetype": "text/x-r-source",
   "name": "R",
   "pygments_lexer": "r",
   "version": "3.6.0"
  }
 },
 "nbformat": 4,
 "nbformat_minor": 2
}
