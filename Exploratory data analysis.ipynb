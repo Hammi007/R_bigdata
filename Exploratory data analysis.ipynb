{
 "cells": [
  {
   "cell_type": "markdown",
   "source": [
    "Do an Exploratory Data Analysis, including the necessary data transformation and cleaning, on the data (or a part of) you have decided to use for your business case. That is, load the data into R in a Jupyter notebook. Look at what variables you have and what their scale of measurement and types are. Do the necessary transformation such that the variables are in a format in R you can work with. Then investigate the individual variables and their distribution using plotting and descriptive statistics. Finally, select some pairs of variable for which you think their could be an interesting relationship and plot the relationship and calculate the relevant descriptive statistics. Finally, upload the notebook here."
   ],
   "metadata": {}
  },
  {
   "cell_type": "markdown",
   "source": [
    "<h1> Exploratory data analysis <h1>\n",
    "<h3> <i>The chosen business case for this course is based on the dataset “Employee Attrition”, which consists of 35 columns and approximately 1400 rows of data about an organization’s employees. The dataset is found on the website “Kaggle.com” in a notebook. \n",
    "The goal of this business case is to find patterns in the data using analysis, that can tell us why workers quit their job <i> <h3>"
   ],
   "metadata": {}
  },
  {
   "cell_type": "markdown",
   "source": [
    "<h2> Loading the data <h2>"
   ],
   "metadata": {}
  },
  {
   "cell_type": "code",
   "execution_count": null,
   "source": [
    "data2 <- read.csv(\"Employee_Attrition.csv\", header = TRUE, stringsAsFactors = FALSE)\n",
    "# git_url <- \"https://github.com/Hammi007/R_bigdata/blob/3e35e40e35a28f7e460bac125f9b63384c1cc4f3/Employee_Attrition.csv\"\n",
    "# data <- read.csv(git_url, header = TRUE, stringsAsFactors = FALSE)\n"
   ],
   "outputs": [],
   "metadata": {}
  },
  {
   "cell_type": "markdown",
   "source": [
    "<h2> Exploring the data <h2>\n"
   ],
   "metadata": {}
  },
  {
   "cell_type": "code",
   "execution_count": null,
   "source": [
    "library(stringr)\n",
    "\n",
    "#We see that the dataset contains 1470 rows and 35 coloumns.\n",
    "dim(data2)\n",
    "\n",
    "# Through the str() function we see the different datatypes and can conclude that, only two datatypes are used: int and chr.\n",
    "str(data2)\n",
    "\n",
    "# This also applies for columns with binary output eg. 'Attrition' with \"yes\"/\"no\" values, or columns a few multiple values eg BusinessTravel with three diffent values.\n",
    "unique(data2$BusinessTravel)\n",
    "\n",
    "# In the dataset we also see, that there is no missing values NA.\n",
    "table(is.na(data2))\n"
   ],
   "outputs": [],
   "metadata": {}
  },
  {
   "cell_type": "markdown",
   "source": [
    "<h2> Cleaning the data <h2>"
   ],
   "metadata": {}
  },
  {
   "cell_type": "code",
   "execution_count": null,
   "source": [
    "# After exploring the overall structure of the data, we want to conduct the following transformation-steps:\n",
    "\n",
    "# step 1: Remove irrelevant columns\n",
    "# step 2: transforming columns whith binary and a multiple values to factors.\n",
    "\n",
    "\n"
   ],
   "outputs": [],
   "metadata": {}
  },
  {
   "cell_type": "markdown",
   "source": [
    "<h2> Transforming the data <h2>"
   ],
   "metadata": {}
  }
 ],
 "metadata": {
  "orig_nbformat": 4,
  "language_info": {
   "name": "R"
  },
  "kernelspec": {
   "name": "ir",
   "display_name": "R"
  }
 },
 "nbformat": 4,
 "nbformat_minor": 2
}