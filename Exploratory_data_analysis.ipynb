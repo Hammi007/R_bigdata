{
 "cells": [
  {
   "cell_type": "markdown",
   "source": [
    "Do an Exploratory Data Analysis, including the necessary data transformation and cleaning, on the data (or a part of) you have decided to use for your business case. That is, load the data into R in a Jupyter notebook. Look at what variables you have and what their scale of measurement and types are. Do the necessary transformation such that the variables are in a format in R you can work with. Then investigate the individual variables and their distribution using plotting and descriptive statistics. Finally, select some pairs of variable for which you think their could be an interesting relationship and plot the relationship and calculate the relevant descriptive statistics. Finally, upload the notebook here."
   ],
   "metadata": {}
  },
  {
   "cell_type": "markdown",
   "source": [
    "<h1> Exploratory data analysis <h1>\n",
    "<h3> <i>The chosen business case for this course is based on the dataset “Employee Attrition”, which consists of 35 columns and approximately 1400 rows of data about an organization’s employees. The dataset is found on the website “Kaggle.com” in a notebook. \n",
    "The goal of this business case is to find patterns in the data using analysis, that can tell us why workers quit their job <i> <h3>"
   ],
   "metadata": {}
  },
  {
   "cell_type": "markdown",
   "source": [
    "<h2> Loading the data <h2>"
   ],
   "metadata": {}
  },
  {
   "cell_type": "code",
   "execution_count": null,
   "source": [
    "#data2 <- read.csv(\"Employee_Attrition.csv\", header = TRUE, stringsAsFactors = FALSE)\n",
    "# git_url <- \"https://github.com/Hammi007/R_bigdata/blob/3e35e40e35a28f7e460bac125f9b63384c1cc4f3/Employee_Attrition.csv\"\n",
    "# data <- read.csv(git_url, header = TRUE, stringsAsFactors = FALSE)\n",
    "df <- read.csv(\"Employee_Attrition.csv\", header = TRUE, stringsAsFactors = FALSE, strip.white = TRUE)\n"
   ],
   "outputs": [],
   "metadata": {}
  },
  {
   "cell_type": "markdown",
   "source": [
    "<h2> Exploring the data <h2>\n"
   ],
   "metadata": {}
  },
  {
   "cell_type": "code",
   "execution_count": null,
   "source": [
    "#We see that the dataset contains 1470 rows and 35 coloumns.\n",
    "dim(df)\n",
    "\n",
    "# Through the str() function we see the different datatypes and can conclude that, only two datatypes are used: int and chr.\n",
    "str(df)\n",
    "\n",
    "# This also applies for columns with binary output eg. 'Attrition' with \"yes\"/\"no\" values, or columns a few multiple values eg BusinessTravel with three diffent values.\n",
    "unique(df$BusinessTravel)\n",
    "\n",
    "# In the dataset we also see, that there is no missing values NA.\n",
    "table(is.na(df))"
   ],
   "outputs": [],
   "metadata": {}
  },
  {
   "cell_type": "markdown",
   "source": [
    "<h2> Cleaning the data <h2>\n",
    "<h4> After exploring the overall structure of the data, we want to conduct the following transformation-steps: <br><br>\n",
    "    <i>\n",
    "        step 1: Remove irrelevant columns<br>\n",
    "        step 2: Remove quotation (\"\") from the dataset <br>\n",
    "        step 3: Transforming columns whith binary and a multiple values to factors.<br> \n",
    "    <i>\n",
    "<h4>"
   ],
   "metadata": {}
  },
  {
   "cell_type": "code",
   "execution_count": null,
   "source": [
    "#Step 1: Keeping a selection of relevant columns\n",
    "selection <- c(\n",
    "    \"Age\", \"Attrition\", \"BusinessTravel\", \"DistanceFromHome\", \n",
    "    \"EducationField\", \"EnvironmentSatisfaction\",\"Gender\",\"HourlyRate\",\n",
    "    \"JobInvolvement\", \"JobRole\", \"JobSatisfaction\", \"MaritalStatus\",\n",
    "    \"MonthlyIncome\", \"NumCompaniesWorked\", \"OverTime\", \"RelationshipSatisfaction\",\n",
    "    \"TotalWorkingYears\", \"TrainingTimesLastYear\", \"YearsAtCompany\",\t\"YearsInCurrentRole\",\n",
    "    \"YearsSinceLastPromotion\"\n",
    ")\n",
    "df <- df[selection]\n",
    "\n",
    "#Step 2,3: Converting multivalues to factors and remvoving quotation \"\"\n",
    "df$Attrition <- factor(df$Attrition, levels = c(\"Yes\", \"No\"), labels = c(\"Yes\", \"No\"), ordered = TRUE)\n",
    "df$BusinessTravel <- factor(df$BusinessTravel, levels = c(\"Travel_Rarely\", \"Travel_Frequently\", \"Non-Travel\"), labels = c(\"Travel_Rarely\", \"Travel_Frequently\", \"Non-Travel\"), ordered = TRUE)\n",
    "df$EducationField <- factor(df$EducationField, levels = c(\"Life Sciences\",\"Other\",\"Medical\",\"Marketing\",\"Technical Degree\",\"Human Resources\"), labels = c(\"Life Sciences\",\"Other\",\"Medical\",\"Marketing\",\"Technical Degree\",\"Human Resources\"), ordered = TRUE)\n",
    "df$EnvironmentSatisfaction <- factor(df$EnvironmentSatisfaction, levels = c(1,2,3,4), labels = c(1,2,3,4), ordered = TRUE)\n",
    "df$Gender <- factor(df$Gender, levels = c(\"Male\", \"Female\"), labels = c(\"Male\", \"Female\"), ordered = TRUE)\n",
    "df$JobInvolvement <- factor(df$JobInvolvement, levels = c(1,2,3,4), labels = c(1,2,3,4), ordered = TRUE)\n",
    "df$JobRole <- factor(df$JobRole, levels = c(\"Sales Executive\",\"Research Scientist\",\"Laboratory Technician\",\"Manufacturing Director\",\"Healthcare Representative\",\"Manager\",\"Sales Representative\",\"Research Director\",\"Human Resources\"), labels = c(\"Sales Executive\",\"Research Scientist\",\"Laboratory Technician\",\"Manufacturing Director\",\"Healthcare Representative\",\"Manager\",\"Sales Representative\",\"Research Director\",\"Human Resources\"), ordered = TRUE)\n",
    "df$JobSatisfaction <- factor(df$JobSatisfaction, levels = c(1,2,3,4), labels = c(1,2,3,4), ordered = TRUE)\n",
    "df$MaritalStatus <- factor(df$MaritalStatus, levels = c(\"Single\",\"Married\",\"Divorced\"), labels = c(\"Single\",\"Married\",\"Divorced\"), ordered = TRUE)\n",
    "df$OverTime <- factor(df$OverTime, levels = c(\"Yes\", \"No\"), labels = c(\"Yes\", \"No\"), ordered = TRUE)\n",
    "df$RelationshipSatisfaction <- factor(df$RelationshipSatisfaction, levels = c(1,2,3,4), labels = c(1,2,3,4), ordered = TRUE)\n",
    "df$TrainingTimesLastYear <- factor(df$TrainingTimesLastYear, levels = c(0,1,2,3,4,5,6), labels = c(0,1,2,3,4,5,6), ordered = TRUE)\n",
    "#df$WorkLifeBalance <- factor(df$WorkLifeBalance, levels = c(1,2,3,4), labels = c(1,2,3,4), ordered = TRUE)\n"
   ],
   "outputs": [],
   "metadata": {}
  },
  {
   "cell_type": "code",
   "execution_count": null,
   "source": [
    "#pairs(df)\n",
    "#plot(adverts$marketing_total, adverts$revenues, ylab = \"Revenues\",\n",
    "#xlab = \"Marketing Total\", main = \"Revenues and Marketing\")\n",
    "\n",
    "\n",
    "\n",
    "library(tidyverse)\n",
    "summary(df$YearsAtCompany)\n",
    "\n"
   ],
   "outputs": [],
   "metadata": {}
  },
  {
   "cell_type": "code",
   "execution_count": null,
   "source": [
    "library(ggplot2)\n",
    "options(repr.plot.width=8, repr.plot.height=5)\n",
    "head(df, 3)\n",
    "ggplot(data = df, mapping = aes(x = Age, y = Education, colour = Attrition)) + geom_point()"
   ],
   "outputs": [],
   "metadata": {}
  },
  {
   "cell_type": "code",
   "execution_count": null,
   "source": [
    "ggplot(df, aes(x = Attrition)) + geom_bar(aes(fill = Gender))\n"
   ],
   "outputs": [],
   "metadata": {}
  },
  {
   "cell_type": "code",
   "execution_count": null,
   "source": [
    "#What age does the majority of the company personel have?\n",
    "median(df$Age)\n",
    "quantile(df$Age)\n",
    "ggplot(df, aes(x = Age)) + geom_bar(aes(fill=Gender))"
   ],
   "outputs": [],
   "metadata": {}
  },
  {
   "cell_type": "code",
   "execution_count": null,
   "source": [
    "ggplot(df, aes(x = Education)) + geom_bar(aes(fill=Gender))\n",
    "\n",
    "    library(MASS)\n",
    "    boxcox(fit0)"
   ],
   "outputs": [],
   "metadata": {}
  },
  {
   "cell_type": "markdown",
   "source": [
    "<h2> Transforming the data <h2>"
   ],
   "metadata": {}
  },
  {
   "cell_type": "code",
   "execution_count": null,
   "source": [
    "# After exploring the overall structure of the data, we want to conduct the following transformation-steps:\n",
    "# step 1: Remove irrelevant columns that dont "
   ],
   "outputs": [],
   "metadata": {}
  }
 ],
 "metadata": {
  "kernelspec": {
   "display_name": "R",
   "language": "R",
   "name": "ir"
  },
  "language_info": {
   "codemirror_mode": "r",
   "file_extension": ".r",
   "mimetype": "text/x-r-source",
   "name": "R",
   "pygments_lexer": "r",
   "version": "3.6.0"
  }
 },
 "nbformat": 4,
 "nbformat_minor": 2
}