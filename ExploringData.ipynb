{
 "cells": [
  {
   "cell_type": "markdown",
   "source": [
    "Do an Exploratory Data Analysis, including the necessary data transformation and cleaning, on the data (or a part of) you have decided to use for your business case. That is, load the data into R in a Jupyter notebook. Look at what variables you have and what their scale of measurement and types are. Do the necessary transformation such that the variables are in a format in R you can work with. Then investigate the individual variables and their distribution using plotting and descriptive statistics. Finally, select some pairs of variable for which you think their could be an interesting relationship and plot the relationship and calculate the relevant descriptive statistics. Finally, upload the notebook here."
   ],
   "metadata": {}
  },
  {
   "cell_type": "code",
   "execution_count": null,
   "source": [
    "#Load Data\n",
    "# data2 <- read.csv(\"Employee_Attrition.csv\", header = TRUE, stringsAsFactors = FALSE)\n",
    "git_url <- \"https://github.com/Hammi007/R_bigdata/blob/3e35e40e35a28f7e460bac125f9b63384c1cc4f3/Employee_Attrition.csv\"\n",
    "data <- read.csv(git_url, header = TRUE, stringsAsFactors = FALSE)\n",
    "\n",
    "\n"
   ],
   "outputs": [],
   "metadata": {}
  },
  {
   "cell_type": "code",
   "execution_count": null,
   "source": [
    "# Exploring the data\n",
    "#We see that the dataset contains 1470 rows and 35 coloumns.\n",
    "dim(data)\n",
    "\n",
    "head(data,5)\n",
    "tail(data,5)\n",
    "\n",
    "\n",
    "\n",
    "#unique(data$Age)"
   ],
   "outputs": [],
   "metadata": {}
  }
 ],
 "metadata": {
  "orig_nbformat": 4,
  "language_info": {
   "name": "R"
  },
  "kernelspec": {
   "name": "ir",
   "display_name": "R"
  }
 },
 "nbformat": 4,
 "nbformat_minor": 2
}