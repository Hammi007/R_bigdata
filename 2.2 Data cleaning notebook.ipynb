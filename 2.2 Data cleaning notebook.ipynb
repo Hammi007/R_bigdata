{
 "cells": [
  {
   "cell_type": "markdown",
   "source": [
    "# Data cleaning notebook\n",
    "\n",
    "This notebook contains the examples from chapter 2 of the book. Let us start by reading in the data into a data frame named `bike`."
   ],
   "metadata": {
    "collapsed": true
   }
  },
  {
   "cell_type": "code",
   "execution_count": null,
   "source": [
    "# install.packages(\"tidyverse\")"
   ],
   "outputs": [],
   "metadata": {}
  },
  {
   "cell_type": "code",
   "execution_count": null,
   "source": [
    "bike <- read.csv(\"https://raw.githubusercontent.com/jgendron/com.packtpub.intro.r.bi/master/Chapter2-DataCleaning/data/Ch2_raw_bikeshare_data.csv\", stringsAsFactors = FALSE)\n"
   ],
   "outputs": [],
   "metadata": {}
  },
  {
   "cell_type": "markdown",
   "source": [
    "## 1 Summarizing your data for inspection\n",
    "\n",
    "We will start by looking a bit at the data"
   ],
   "metadata": {}
  },
  {
   "cell_type": "code",
   "execution_count": null,
   "source": [
    "str(bike)\n"
   ],
   "outputs": [],
   "metadata": {}
  },
  {
   "cell_type": "markdown",
   "source": [
    "Clear problems that we can note already are that the `datetime` column is in characters and not a proper date-time format in R. Moreover, the `humidity` variable is also character, while it looks like it should be numeric or integer."
   ],
   "metadata": {}
  },
  {
   "cell_type": "code",
   "execution_count": null,
   "source": [
    "dim(bike)\n",
    "head(bike)\n",
    "tail(bike)\n"
   ],
   "outputs": [],
   "metadata": {}
  },
  {
   "cell_type": "markdown",
   "source": [
    "## 2 Finding and fixing flawed data\n",
    "\n",
    "We will now try to find and fix errors in the data. Note that, this is detective work and there is not always one answer and one method that find and solves all errors."
   ],
   "metadata": {}
  },
  {
   "cell_type": "markdown",
   "source": [
    "### Missing values\n",
    "\n",
    "Missing values is a common problem occuring with most data sets. Sometimes, a specific values is used to indicate that the value is missing. In R this is represented by the value `NA`. In the above `tail` call you can see such a case in the last column. First, let us see how to count the number of `NA` in a data frame:"
   ],
   "metadata": {}
  },
  {
   "cell_type": "code",
   "execution_count": null,
   "source": [
    "table(is.na(bike))\n"
   ],
   "outputs": [],
   "metadata": {}
  },
  {
   "cell_type": "markdown",
   "source": [
    "This show us that our data frame `bike` contains 554 `NA` values, while 225373 values are not missing. The following code can help us see if it is all variables that contain `NA`:"
   ],
   "metadata": {}
  },
  {
   "cell_type": "code",
   "execution_count": null,
   "source": [
    "library(stringr)\n",
    "str_detect(bike, \"NA\")\n"
   ],
   "outputs": [],
   "metadata": {}
  },
  {
   "cell_type": "markdown",
   "source": [
    "This function returns `TRUE` or `FALSE` for each column in our data frame. The result shows that it is only the last column that contains `NA` values. Another way to confirm this is by:"
   ],
   "metadata": {}
  },
  {
   "cell_type": "code",
   "execution_count": null,
   "source": [
    "table(is.na(bike$sources))\n"
   ],
   "outputs": [],
   "metadata": {}
  },
  {
   "cell_type": "markdown",
   "source": [
    "Here we can see that there as many `NA` values in the `sources` column as there is in the entire data frame. We will fix these missing values later."
   ],
   "metadata": {}
  },
  {
   "cell_type": "markdown",
   "source": [
    "Dealing with missing values is a huge topic on its own! We will return to this next time also."
   ],
   "metadata": {}
  },
  {
   "cell_type": "markdown",
   "source": [
    "### Erroneous values\n",
    "\n",
    "We now return to the issue with the `humidity` attribute. We will start by searching for characters in the column:"
   ],
   "metadata": {}
  },
  {
   "cell_type": "code",
   "execution_count": null,
   "source": [
    "bad_data <- str_subset(bike$humidity, \"[a-z A-Z]\")\n",
    "bad_data\n"
   ],
   "outputs": [],
   "metadata": {}
  },
  {
   "cell_type": "markdown",
   "source": [
    "From this we can see that the value `x61` appears somewhere in the column `humidity`. This is clearly an error. There are not always a clear answer or solution, but in this case, it seems like someone just miss-typed `61` as `x61`. Let us find the location of this error:"
   ],
   "metadata": {}
  },
  {
   "cell_type": "code",
   "execution_count": null,
   "source": [
    "location <- str_detect(bike$humidity, bad_data)\n",
    "bike[location, ]\n"
   ],
   "outputs": [],
   "metadata": {}
  },
  {
   "cell_type": "markdown",
   "source": [
    "Note, that the `str_detect` function give us a vector of `TRUE` and `FAlSE` which is only true for the row that has the error. This we can use to subset the `bike` data frame to see the row with the error."
   ],
   "metadata": {}
  },
  {
   "cell_type": "markdown",
   "source": [
    "We can now replace this error in the following way and inspect that we fixed the error:"
   ],
   "metadata": {}
  },
  {
   "cell_type": "code",
   "execution_count": null,
   "source": [
    "bike$humidity <- str_replace_all(bike$humidity, \"x61\", \"61\")\n",
    "bike[location, ]\n"
   ],
   "outputs": [],
   "metadata": {}
  },
  {
   "cell_type": "markdown",
   "source": [
    "## 3 Converting inputs to data types suitable for analysis\n",
    "\n",
    "We will now try and convert the columns with wrong data format to a proper data format. There is not always one right data format to put your data in. It depends on what you want to do with it later. Some times it is prefered to have a column values as character strings and other times it is prefered to have them as factors. However, in most cases it make sense to turn dates into a proper data format instead of character strings."
   ],
   "metadata": {}
  },
  {
   "cell_type": "markdown",
   "source": [
    "We will start by turning the `humidity` column into a numeric columns as we have now fixed the issue with the non numeric value:"
   ],
   "metadata": {}
  },
  {
   "cell_type": "code",
   "execution_count": null,
   "source": [
    "bike$humidity <- as.numeric(bike$humidity)\n",
    "#bike <- mutate(bike, humidity = as.numeric(humidity))\n",
    "str(bike)\n"
   ],
   "outputs": [],
   "metadata": {}
  },
  {
   "cell_type": "markdown",
   "source": [
    "Next we will look at the `holiday` and `workingday` variables which are numeric, but it is more natural to have them as factors. Here is how to fix that:"
   ],
   "metadata": {}
  },
  {
   "cell_type": "code",
   "execution_count": null,
   "source": [
    "bike$holiday <- factor(bike$holiday, levels = c(0, 1), labels = c(\"no\", \"yes\"))\n",
    "bike$workingday <- factor(bike$workingday, levels = c(0, 1), labels = c(\"no\", \"yes\"))\n",
    "str(bike)\n"
   ],
   "outputs": [],
   "metadata": {}
  },
  {
   "cell_type": "markdown",
   "source": [
    "Note that this code turned `0` into \"no\" and `1` into \"yes\". (Underneath R represent \"no\" as a 1 and \"yes\" as a 2, which makes it look like we flipped yes and no, but we did not.) To make this decision we need to know that this is correct of course. That is, we need to know something about the data set - that `0` represent \"no\" and tha `1` represent \"yes\". Often this kind of information can be found in the *data dictionary*, if the dataset has a such."
   ],
   "metadata": {}
  },
  {
   "cell_type": "markdown",
   "source": [
    "In similar manners we can turn the `season` and `weather` columns into factors, which seems to be the right thing to do in this case, as well:"
   ],
   "metadata": {}
  },
  {
   "cell_type": "code",
   "execution_count": null,
   "source": [
    "bike$season <- factor(bike$season, levels = c(1, 2, 3, 4), labels = c(\"spring\", \"summer\", \"fall\", \"winter\"), ordered = TRUE)\n",
    "bike$weather <- factor(bike$weather, levels = c(1, 2, 3, 4), labels = c(\"clr_part_cloud\", \"mist_cloudy\", \"lt_rain_snow\", \"hvy_rain_snow\"), ordered = TRUE)\n",
    "str(bike)\n",
    "\n"
   ],
   "outputs": [],
   "metadata": {
    "scrolled": true
   }
  },
  {
   "cell_type": "markdown",
   "source": [
    "**NOTE:** It is not always a good idea to turn character strings into factors. In fact, I will advice not to do it at this stage. You can always do it later, if you realize it will make something easier for you or it is required by other functions you want to use such as a particular function for training a machine learning model, for instance."
   ],
   "metadata": {}
  },
  {
   "cell_type": "markdown",
   "source": [
    "We will now finally fix the date format issue with the `datetime` column. To do this we first need to understand what format the `datetime` column is in. Looking at the `str` output above seems to indicate that it is on the format \"mm/dd/yyyy hh:mm\". The \"lubridate\" package is a very nice package to work with dates and times. It even has a function to deal with this particular format, namely the function `mdy_hm` function - the name hopefully give away why it is useful in our case! So let us use it to transform the `datetime` column into a proper format:"
   ],
   "metadata": {}
  },
  {
   "cell_type": "code",
   "execution_count": null,
   "source": [
    "library(lubridate)\n",
    "bike$datetime <- mdy_hm(bike$datetime)\n",
    "str(bike)\n"
   ],
   "outputs": [],
   "metadata": {
    "scrolled": false
   }
  },
  {
   "cell_type": "markdown",
   "source": [
    "Note that the `mdy_hm` function turned the datetime column into is something called \"POSIXct\", which i a common time format in R. (You can google it if you want. We will not go into this i any more details for now.)"
   ],
   "metadata": {}
  },
  {
   "cell_type": "markdown",
   "source": [
    "## 4 Adapting string variables to a standard\n",
    "\n",
    "Finally, we will look at adapting sting variables to a standard. The issue here is that sometimes string values are hard to work with and may contain more information than needed. In such cases, with some manipulation we can turn the variable into a factor variable with fewer values, however, values that are still meaningful to us. This is the case for the `source` column, which we will now take a closer look at. First we look at what are all the unique values this column takes:"
   ],
   "metadata": {}
  },
  {
   "cell_type": "code",
   "execution_count": null,
   "source": [
    "unique(bike$source)\n"
   ],
   "outputs": [],
   "metadata": {}
  },
  {
   "cell_type": "markdown",
   "source": [
    "There are some obvious cleaning we can do here! First of all there are two values for Twitter which should be indentified and there are three values for ad campaing that should probably also be identified. Moreover, we might want to replace `NA` by unknown in this case. The \"stringr\" package can again help us and we can solve these issues in the following way:"
   ],
   "metadata": {}
  },
  {
   "cell_type": "code",
   "execution_count": null,
   "source": [
    "bike$sources <- tolower(bike$sources)\n",
    "bike$sources <- str_trim(bike$sources)\n",
    "unique(bike$source)\n",
    "na_loc <- is.na(bike$sources)\n",
    "bike$sources[na_loc] <- \"unknown\"\n",
    "unique(bike$source)\n"
   ],
   "outputs": [],
   "metadata": {}
  },
  {
   "cell_type": "markdown",
   "source": [
    "This is much better, but we might also want to group all webpages into on category, that is all sources that starts with \"www.\" We can do this using the DataCombine package in the following way:"
   ],
   "metadata": {}
  },
  {
   "cell_type": "code",
   "execution_count": null,
   "source": [
    "library(DataCombine)\n",
    "web_sites <- \"(www.[a-z]*.[a-z]*)\"\n",
    "current <- unique(str_subset(bike$sources, web_sites))\n",
    "replace <- rep(\"web\", length(current))\n",
    "replacements <- data.frame(from = current, to = replace)\n",
    "bike <- FindReplace(data = bike, Var = \"sources\", replacements, from = \"from\", to = \"to\", exact = FALSE)\n",
    "bike$sources <- as.factor(bike$sources)\n",
    "unique(bike$sources)\n"
   ],
   "outputs": [],
   "metadata": {}
  },
  {
   "cell_type": "markdown",
   "source": [
    "We now have a nice and clean dataset in the right format, which we will use for further analysis in the later lectures. Have a look at it:"
   ],
   "metadata": {}
  },
  {
   "cell_type": "code",
   "execution_count": null,
   "source": [
    "str(bike)\n",
    "bike\n"
   ],
   "outputs": [],
   "metadata": {
    "scrolled": false
   }
  },
  {
   "cell_type": "markdown",
   "source": [
    "# Exercise\n",
    "\n",
    "In this exercise, we will load in another dataset from Google Analytics, clean it and reshape it. "
   ],
   "metadata": {}
  },
  {
   "cell_type": "markdown",
   "source": [
    "First, download the sheet \"Dataset2\" from the dataset \"Webanalytics_data_example2.xlsx\" and save in a variable called `gadata`. This is website data about users for the first 6 months of 2019 divided by age group.\n",
    "\n",
    "*Hint: Think about what package and data loading function that will be useful here.*"
   ],
   "metadata": {}
  },
  {
   "cell_type": "code",
   "execution_count": null,
   "source": [
    "library(readxl)\n",
    "webanalyticsDataset2 <- read_excel(\"./Data/Webanalytics_data_example2.xlsx\", sheet = \"Dataset2\")\n"
   ],
   "outputs": [],
   "metadata": {}
  },
  {
   "cell_type": "markdown",
   "source": [
    "If you managed to load in the data it probably looks like this:\n",
    "![gadata](gadata1.png)\n",
    "It looks a bit strange doesn't it? It certainly does not look like tidy data. We want to turn it into tidy data that looks like this:\n",
    "![gadata2](gadata2.png)\n",
    "\n",
    "Doing this cleaning will require several steps, so we will go through them one by one."
   ],
   "metadata": {}
  },
  {
   "cell_type": "markdown",
   "source": [
    "The first thing we will do is to remove the second column titled \"Total\" as it is just a column with totals, which is not really an observation or an attribute according to the concept of tidy data. So remove the second \"Total\" column.\n",
    "\n",
    "*Hint: You can use the `select` function. Try to figure out how `-` can be used in connection with the `select` function.*"
   ],
   "metadata": {}
  },
  {
   "cell_type": "code",
   "execution_count": null,
   "source": [
    "library(dplyr) #here\n",
    "webanalyticsDataset2 %>%\n",
    "    select(-starts_with('Total'))\n",
    "\n",
    "str(webanalyticsDataset2)\n"
   ],
   "outputs": [],
   "metadata": {}
  },
  {
   "cell_type": "markdown",
   "source": [
    "The second thing we will do is to rename the first column from \"...1\" to \"Age\". So go ahead and do this.\n",
    "\n",
    "*Hint: Use the `rename` function from the dplyr package.*"
   ],
   "metadata": {}
  },
  {
   "cell_type": "code",
   "execution_count": null,
   "source": [],
   "outputs": [],
   "metadata": {}
  },
  {
   "cell_type": "markdown",
   "source": [
    "The next thing we will do is to remove the first row as it just contains the word \"Age\" or \"Users\". (Note that what looks like the first row is not a row, but names of columns.) \n",
    "\n",
    "*Hint: This can be done in several ways. Try either to subset the data with the \"[ , ]\", or use the `filter` function.*"
   ],
   "metadata": {}
  },
  {
   "cell_type": "code",
   "execution_count": null,
   "source": [],
   "outputs": [],
   "metadata": {}
  },
  {
   "cell_type": "markdown",
   "source": [
    "Next, we will remove the last rows as it contains totals as well.\n",
    "\n",
    "*Hint: You can use the same technique as in the previous question.*"
   ],
   "metadata": {}
  },
  {
   "cell_type": "code",
   "execution_count": null,
   "source": [],
   "outputs": [],
   "metadata": {}
  },
  {
   "cell_type": "markdown",
   "source": [
    "Now your data frame should look like this:\n",
    "![gadata3](gadata3.png)\n",
    "We will turn all the columns execept `Age` column into one column with the gather function, so that our data will look like this:\n",
    "![gadata4](gadata4.png)\n",
    "\n",
    "Go ahead and do this!\n",
    "\n",
    "*Hint: Use the `gather` function. Call the key column \"Date\" and the value column \"Users\". To select every column except the age column as the last arguments there are different options, but try out the `starts_with`.* "
   ],
   "metadata": {}
  },
  {
   "cell_type": "code",
   "execution_count": null,
   "source": [],
   "outputs": [],
   "metadata": {}
  },
  {
   "cell_type": "markdown",
   "source": [
    "We will now spread out the data again such that the age groups are columns. \n",
    "\n",
    "*Hint: Use the spread function with the column `Age` as key and the column `Users` as value."
   ],
   "metadata": {}
  },
  {
   "cell_type": "code",
   "execution_count": null,
   "source": [],
   "outputs": [],
   "metadata": {}
  },
  {
   "cell_type": "markdown",
   "source": [
    "We will now turn the numbers in the \"Date\" column into actual dates. Before this, we will arrange the \"Date\" columns such that the lowest date is first. (The dates are numbered and represent days since \"2019-01-01\".)\n",
    "\n",
    "*Hint: Use the arrange function.*"
   ],
   "metadata": {}
  },
  {
   "cell_type": "code",
   "execution_count": null,
   "source": [],
   "outputs": [],
   "metadata": {}
  },
  {
   "cell_type": "markdown",
   "source": [
    "We will now put in the dates instead of the numbers. To do this we will first generate the relevant dates. This can be done with the following command"
   ],
   "metadata": {}
  },
  {
   "cell_type": "code",
   "execution_count": null,
   "source": [
    "dates <- seq(from = as.Date(\"2019-01-01\"), to = as.Date(\"2019-06-30\"), by = \"day\")\n",
    "dates"
   ],
   "outputs": [],
   "metadata": {}
  },
  {
   "cell_type": "markdown",
   "source": [
    "We can now put then in instead of the numbers in the `Date` column. Do this."
   ],
   "metadata": {}
  },
  {
   "cell_type": "code",
   "execution_count": null,
   "source": [],
   "outputs": [],
   "metadata": {}
  },
  {
   "cell_type": "markdown",
   "source": [
    "Your data should now look like this:\n",
    "![gadata5](gadata5.png)"
   ],
   "metadata": {}
  },
  {
   "cell_type": "markdown",
   "source": [
    "Now we will gather the data again to get in a tidy format. \n",
    "\n",
    "*Hint: Use the `gather` function, \"Age\" as key and \"Users\" as value. To select the age group columns you can use `\"18-24\":\"65+\"`*"
   ],
   "metadata": {}
  },
  {
   "cell_type": "code",
   "execution_count": null,
   "source": [],
   "outputs": [],
   "metadata": {}
  },
  {
   "cell_type": "markdown",
   "source": [
    "Finally, we will make sure that the `Age` column is factor and that the column `Users` is numeric. So go ahead and make this transformation.\n",
    "\n",
    "*Hint: use the functions `as.factor` and `as.numeric`.*"
   ],
   "metadata": {}
  },
  {
   "cell_type": "code",
   "execution_count": null,
   "source": [],
   "outputs": [],
   "metadata": {}
  },
  {
   "cell_type": "markdown",
   "source": [
    "If you managed to get the data in the right format the code below should give you a nice plot"
   ],
   "metadata": {}
  },
  {
   "cell_type": "code",
   "execution_count": null,
   "source": [
    "ggplot(data = gadata) + geom_line(mapping = aes(x = Date, y = Users, color = Age))"
   ],
   "outputs": [],
   "metadata": {}
  }
 ],
 "metadata": {
  "kernelspec": {
   "display_name": "R",
   "language": "R",
   "name": "ir"
  },
  "language_info": {
   "codemirror_mode": "r",
   "file_extension": ".r",
   "mimetype": "text/x-r-source",
   "name": "R",
   "pygments_lexer": "r",
   "version": "3.6.0"
  }
 },
 "nbformat": 4,
 "nbformat_minor": 2
}