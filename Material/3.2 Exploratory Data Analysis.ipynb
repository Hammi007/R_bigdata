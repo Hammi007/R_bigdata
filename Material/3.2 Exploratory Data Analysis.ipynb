{
 "cells": [
  {
   "cell_type": "markdown",
   "source": [
    "# Exploratory data analysis (EDA)\n",
    "\n",
    "This notebook contains examples of EDA as well as exercises that will allow you to do some EDA on your own."
   ],
   "metadata": {
    "collapsed": true
   }
  },
  {
   "cell_type": "markdown",
   "source": [
    "# EDA step 1 – the basics\n",
    "\n",
    "As an example, we will look at the diamonds dataset. We can find the diamonds dataset in the `tidyverse` package, which we will need anyway."
   ],
   "metadata": {}
  },
  {
   "cell_type": "code",
   "execution_count": null,
   "source": [
    "library(tidyverse)\n"
   ],
   "outputs": [],
   "metadata": {}
  },
  {
   "cell_type": "markdown",
   "source": [
    "Here is a first look at the data:"
   ],
   "metadata": {}
  },
  {
   "cell_type": "code",
   "execution_count": null,
   "source": [
    "head(diamonds, 10)\n"
   ],
   "outputs": [],
   "metadata": {}
  },
  {
   "cell_type": "code",
   "execution_count": null,
   "source": [
    "# ?diamonds\n",
    "str(diamonds)\n"
   ],
   "outputs": [],
   "metadata": {}
  },
  {
   "cell_type": "markdown",
   "source": [
    "### *Exercise*\n",
    "\n",
    "- What do the different variables in the dataset represent?\n",
    "- What does a row represent?\n",
    "- Which variables are categorical and which ones are numerical?\n",
    "- What are the different data types of the different variables?\n",
    "- Should we change the data type of any of the variables?"
   ],
   "metadata": {}
  },
  {
   "cell_type": "code",
   "execution_count": null,
   "source": [],
   "outputs": [],
   "metadata": {}
  },
  {
   "cell_type": "markdown",
   "source": [
    "# Next step: Asking questions about your data"
   ],
   "metadata": {}
  },
  {
   "cell_type": "markdown",
   "source": [
    "## Visualizing variation within a variable\n",
    "\n",
    "We will first plot the distribution of the categorical variable `cut` using a barplot. (We will throughout this notebook use the standard plotting functionality of R. However, in the next notebook we will se how we can make much prettier and more flexible plots with the ggplot2 package.)"
   ],
   "metadata": {}
  },
  {
   "cell_type": "code",
   "execution_count": null,
   "source": [
    "summary(diamonds$cut)\n",
    "barplot(summary(diamonds$cut))\n"
   ],
   "outputs": [],
   "metadata": {}
  },
  {
   "cell_type": "markdown",
   "source": [
    "Alternatively you can also just use the `plot` command on the variable:"
   ],
   "metadata": {}
  },
  {
   "cell_type": "code",
   "execution_count": null,
   "source": [
    "plot(diamonds$cut)\n"
   ],
   "outputs": [],
   "metadata": {}
  },
  {
   "cell_type": "markdown",
   "source": [
    "We can resize the plots in our notebook if we think the are to big or small, but setting some global options.:"
   ],
   "metadata": {}
  },
  {
   "cell_type": "code",
   "execution_count": null,
   "source": [
    "options(repr.plot.width=8, repr.plot.height=5)\n"
   ],
   "outputs": [],
   "metadata": {}
  },
  {
   "cell_type": "code",
   "execution_count": null,
   "source": [
    "plot(diamonds$cut)\n"
   ],
   "outputs": [],
   "metadata": {}
  },
  {
   "cell_type": "markdown",
   "source": [
    "The interpretation of this plot is fairly straightforward. For each of the possible cuts in the dataset, it shows how many diamonds that have that cut."
   ],
   "metadata": {}
  },
  {
   "cell_type": "markdown",
   "source": [
    "Now let us plot the distribution of the numerical variable `carat`. First, let us use a histogram:"
   ],
   "metadata": {}
  },
  {
   "cell_type": "code",
   "execution_count": null,
   "source": [
    "hist(diamonds$carat)\n"
   ],
   "outputs": [],
   "metadata": {}
  },
  {
   "cell_type": "markdown",
   "source": [
    "Here the interpretation of the plot requires a little more. The values of the numerical variable `carat` varies from 0 to a little above 5. To get an idea of the distribution of the carat of the different diamonds, we put them into bins with a width of 0.5 carats. That is, all diamonds with a carat ranging from 0 to 0.5 are put in the first bin, diamonds with a carat ranging from 0.5 to 1 are put in the second bin, ..., and so on. Then the histogram shows how many diamonds are in each bin."
   ],
   "metadata": {}
  },
  {
   "cell_type": "markdown",
   "source": [
    "Note that, the width of the bins can vary. Moreover, if we change the width of the bins, the plot will look different. There is no right answer to the question of how many bins there should be. Let us try it out:"
   ],
   "metadata": {}
  },
  {
   "cell_type": "code",
   "execution_count": null,
   "source": [
    "hist(diamonds$carat, breaks = 4)\n",
    "hist(diamonds$carat, breaks = 20)\n",
    "hist(filter(diamonds, carat <= 1)$carat, breaks = 10)"
   ],
   "outputs": [],
   "metadata": {
    "scrolled": false
   }
  },
  {
   "cell_type": "markdown",
   "source": [
    "We can also plot the boxplot of a numerical variable in the following way:"
   ],
   "metadata": {}
  },
  {
   "cell_type": "code",
   "execution_count": null,
   "source": [
    "boxplot(diamonds$carat)"
   ],
   "outputs": [],
   "metadata": {
    "scrolled": false
   }
  },
  {
   "cell_type": "markdown",
   "source": [
    "A box plot requires a bit to interpret. First the thick horizontal line in the middle of the box represent the `median`. The lower horizontal line of the box the 1st quartile and the upper horizontal line of the box the 3rd quartile.\n",
    "\n",
    "The *interquartile range* `IQR` is the 3rd quartile minus the 1st quartile (i.e. the hight of the box). Now, the top horizontal line is whatever is smallest of \"*the 3d quartile + 1.5 times IQR*\" and *the maximum value*. The bottom horizontal line is the biggest of \"*1st quartile - 1.5 times IQR*\" and *the minimum value*.\n",
    "\n",
    "Every value above the top horizontal line or below the bottom horizontal lines are displayed as circles and are also referred to as *outliers*."
   ],
   "metadata": {}
  },
  {
   "cell_type": "markdown",
   "source": [
    "### *Exercise*\n",
    "\n",
    "Plot the distributions of the variables `color` and `price`."
   ],
   "metadata": {}
  },
  {
   "cell_type": "code",
   "execution_count": null,
   "source": [],
   "outputs": [],
   "metadata": {}
  },
  {
   "cell_type": "markdown",
   "source": [
    "## Quantifying variation within a variable\n",
    "\n",
    "Let us now *quantify* the variation within a variable, such as the variables that we saw in the above plots."
   ],
   "metadata": {}
  },
  {
   "cell_type": "markdown",
   "source": [
    "### Categorical variables\n",
    "\n",
    "First, let us quantify what we saw in the bar plot for the categorical variable `cut`:"
   ],
   "metadata": {}
  },
  {
   "cell_type": "code",
   "execution_count": null,
   "source": [
    "summary(diamonds$cut)"
   ],
   "outputs": [],
   "metadata": {}
  },
  {
   "cell_type": "code",
   "execution_count": null,
   "source": [
    "table(diamonds$cut)"
   ],
   "outputs": [],
   "metadata": {}
  },
  {
   "cell_type": "markdown",
   "source": [
    "As we see, the `summary` or `table` function can be used to give us the number of cases (diamonds) in each of the categories of cut."
   ],
   "metadata": {}
  },
  {
   "cell_type": "markdown",
   "source": [
    "Let us now try to calculate the *mode* of the variable `cut`:"
   ],
   "metadata": {}
  },
  {
   "cell_type": "code",
   "execution_count": null,
   "source": [
    "mode(diamonds$cut)"
   ],
   "outputs": [],
   "metadata": {}
  },
  {
   "cell_type": "markdown",
   "source": [
    "As you can see this is clearly not the mode of the `cut` variable. In R the function `mode` does something completely different, so let us forget about that. Instead, we can use the `max` function on `table(diamonds$cut)` to get the number of times the most frequent value occurred. However, the mode is the most frequent value itself, which we can get with the `which.max` function:"
   ],
   "metadata": {}
  },
  {
   "cell_type": "code",
   "execution_count": null,
   "source": [
    "max(table(diamonds$cut))\n",
    "which.max(table(diamonds$cut))"
   ],
   "outputs": [],
   "metadata": {}
  },
  {
   "cell_type": "markdown",
   "source": [
    "So the *mode* of the variable `cut` is `Ideal`."
   ],
   "metadata": {}
  },
  {
   "cell_type": "markdown",
   "source": [
    "### Numerical variables\n",
    "\n",
    "For a numerical variable, such as `carat` there are many different descriptive statistics we can use to quantify what we saw in the histogram plot. First, here is how to get the `mean` and the `median`:"
   ],
   "metadata": {}
  },
  {
   "cell_type": "code",
   "execution_count": null,
   "source": [
    "mean(diamonds$carat)\n",
    "median(diamonds$carat)"
   ],
   "outputs": [],
   "metadata": {}
  },
  {
   "cell_type": "markdown",
   "source": [
    "Quantiles (and quartiles) can be obtained using the summary function (for 1st, 2nd and 3rd quantiles) or the `quantiles` function:"
   ],
   "metadata": {}
  },
  {
   "cell_type": "code",
   "execution_count": null,
   "source": [
    "summary(diamonds$carat)"
   ],
   "outputs": [],
   "metadata": {}
  },
  {
   "cell_type": "code",
   "execution_count": null,
   "source": [
    "quantile(diamonds$carat, c(0.25, 0.35, 0.5, 0.75))"
   ],
   "outputs": [],
   "metadata": {}
  },
  {
   "cell_type": "markdown",
   "source": [
    "Note that mean and quantiles also make sense for categorical variables of *Ordinal* type. However, in R we need to transform the categorical variable to a numeric variable first for the classic `median` and `quantile` functions to work:"
   ],
   "metadata": {}
  },
  {
   "cell_type": "code",
   "execution_count": null,
   "source": [
    "median(as.numeric(diamonds$cut))\n",
    "quantile(as.numeric(diamonds$cut), c(0.35, 0.5))"
   ],
   "outputs": [],
   "metadata": {}
  },
  {
   "cell_type": "markdown",
   "source": [
    "After looking at descriptive statistics for the central tendencies of a distribution, let us look at descriptive statistics for its spread. First we can look at the minimum, the maximum, and the range in the following way:"
   ],
   "metadata": {}
  },
  {
   "cell_type": "code",
   "execution_count": null,
   "source": [
    "min(diamonds$carat)\n",
    "max(diamonds$carat)\n",
    "range(diamonds$carat)\n",
    "max(diamonds$carat) - min(diamonds$carat)"
   ],
   "outputs": [],
   "metadata": {}
  },
  {
   "cell_type": "markdown",
   "source": [
    "Now let us see how to calculate the variance in R:"
   ],
   "metadata": {}
  },
  {
   "cell_type": "code",
   "execution_count": null,
   "source": [
    "var(diamonds$carat)\n",
    "sum((diamonds$carat - mean(diamonds$carat))^2) /\n",
    "(length(diamonds$carat) - 1)"
   ],
   "outputs": [],
   "metadata": {}
  },
  {
   "cell_type": "markdown",
   "source": [
    "The standard deviation can be calculated in the following way:"
   ],
   "metadata": {}
  },
  {
   "cell_type": "code",
   "execution_count": null,
   "source": [
    "sd(diamonds$carat)\n",
    "sqrt(var(diamonds$carat))"
   ],
   "outputs": [],
   "metadata": {}
  },
  {
   "cell_type": "markdown",
   "source": [
    "### *Exercise*\n",
    "\n",
    "Calculate all the above descriptive statistics for the variables `color` and `price`."
   ],
   "metadata": {}
  },
  {
   "cell_type": "code",
   "execution_count": null,
   "source": [],
   "outputs": [],
   "metadata": {}
  },
  {
   "cell_type": "markdown",
   "source": [
    "# Variation between two variables"
   ],
   "metadata": {}
  },
  {
   "cell_type": "markdown",
   "source": [
    "We will first visualize the relationship between two categorical variables using the Mosaic plot:"
   ],
   "metadata": {}
  },
  {
   "cell_type": "code",
   "execution_count": null,
   "source": [
    "mosaicplot(diamonds$cut ~ diamonds$color)"
   ],
   "outputs": [],
   "metadata": {}
  },
  {
   "cell_type": "markdown",
   "source": [
    "The size of each square is proportional to the number of cases with each combination of the two categorical variables. Compare this to the following descriptive statistics:"
   ],
   "metadata": {}
  },
  {
   "cell_type": "code",
   "execution_count": null,
   "source": [
    "table(diamonds$color, diamonds$cut)"
   ],
   "outputs": [],
   "metadata": {}
  },
  {
   "cell_type": "markdown",
   "source": [
    "Now, let us visualize the relationship between to numerical variables using a classic scatterplot:"
   ],
   "metadata": {}
  },
  {
   "cell_type": "code",
   "execution_count": null,
   "source": [
    "plot(diamonds$carat, diamonds$price)"
   ],
   "outputs": [],
   "metadata": {}
  },
  {
   "cell_type": "markdown",
   "source": [
    "There is clearly some sort of relationship here. It does not look completely linear, but we can measure the linear relationship using Pearson’s correlation coefficient:"
   ],
   "metadata": {}
  },
  {
   "cell_type": "code",
   "execution_count": null,
   "source": [
    "cor(diamonds$carat, diamonds$price)"
   ],
   "outputs": [],
   "metadata": {}
  },
  {
   "cell_type": "markdown",
   "source": [
    "The `cor` can also be used to measure other correlation coefficients, see its help page (`?cor`)"
   ],
   "metadata": {}
  },
  {
   "cell_type": "markdown",
   "source": [
    "Finally, let us look at the relationship between a categorical variable and a numerical variable using a boxplot:"
   ],
   "metadata": {}
  },
  {
   "cell_type": "code",
   "execution_count": null,
   "source": [
    "boxplot(diamonds$carat ~ diamonds$cut)"
   ],
   "outputs": [],
   "metadata": {}
  },
  {
   "cell_type": "markdown",
   "source": [
    "In this plot we can see how the numerical variable (`carat`) is distributed for each of the five values of the categorical variable `cut` and thereby compare them. Is there a significant difference in the distribution between two different values?"
   ],
   "metadata": {}
  },
  {
   "cell_type": "markdown",
   "source": [
    "### *Exercise*\n",
    "\n",
    "Try to plot and calculate descriptive statistics for relationships between other pairs of variables from the `diamonds` dataset."
   ],
   "metadata": {}
  },
  {
   "cell_type": "code",
   "execution_count": null,
   "source": [],
   "outputs": [],
   "metadata": {}
  },
  {
   "cell_type": "markdown",
   "source": [
    "### *Exercise*\n",
    "\n",
    "Do an Exploratory Data Analysis on the dataset \"LasVegasTripAdvisorReviews-Dataset.csv\" which is on the JupyterHub. The data comes from the UCI Machine Learning Repository, see https://archive.ics.uci.edu/ml/datasets/Las+Vegas+Strip"
   ],
   "metadata": {}
  },
  {
   "cell_type": "code",
   "execution_count": null,
   "source": [
    "dataSet <- read.csv2(\"LasVegasTripAdvisorReviews-Dataset.csv\")"
   ],
   "outputs": [],
   "metadata": {}
  },
  {
   "cell_type": "code",
   "execution_count": null,
   "source": [
    "head(dataSet)"
   ],
   "outputs": [],
   "metadata": {}
  },
  {
   "cell_type": "code",
   "execution_count": null,
   "source": [],
   "outputs": [],
   "metadata": {}
  }
 ],
 "metadata": {
  "kernelspec": {
   "display_name": "R",
   "language": "R",
   "name": "ir"
  },
  "language_info": {
   "codemirror_mode": "r",
   "file_extension": ".r",
   "mimetype": "text/x-r-source",
   "name": "R",
   "pygments_lexer": "r",
   "version": "3.6.0"
  }
 },
 "nbformat": 4,
 "nbformat_minor": 2
}